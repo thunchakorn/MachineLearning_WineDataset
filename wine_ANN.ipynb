{
 "cells": [
  {
   "cell_type": "code",
   "execution_count": 1,
   "metadata": {},
   "outputs": [
    {
     "name": "stderr",
     "output_type": "stream",
     "text": [
      "C:\\Users\\ACER\\Anaconda3\\lib\\site-packages\\sklearn\\cross_validation.py:41: DeprecationWarning: This module was deprecated in version 0.18 in favor of the model_selection module into which all the refactored classes and functions are moved. Also note that the interface of the new CV iterators are different from that of this module. This module will be removed in 0.20.\n",
      "  \"This module will be removed in 0.20.\", DeprecationWarning)\n"
     ]
    }
   ],
   "source": [
    "#Neural Network Classification\n",
    "import matplotlib.pyplot as plt \n",
    "import numpy as np\n",
    "import pandas as pd\n",
    "from sklearn import datasets\n",
    "from sklearn.cross_validation import train_test_split\n",
    "from sklearn.neural_network import MLPClassifier\n",
    "from warnings import filterwarnings\n",
    "filterwarnings('ignore')\n",
    "\n",
    "raw_data = datasets.load_wine()\n",
    "data = pd.DataFrame(data=raw_data.data, columns=raw_data.feature_names)\n",
    "data['type'] = raw_data.target\n",
    "X_train, X_test, Y_train, Y_test = train_test_split(data.iloc[:,:-1], data.type, test_size = 0.3, random_state = 0)"
   ]
  },
  {
   "cell_type": "code",
   "execution_count": 5,
   "metadata": {
    "scrolled": true
   },
   "outputs": [
    {
     "data": {
      "text/plain": [
       "GridSearchCV(cv=5, error_score='raise',\n",
       "       estimator=Pipeline(memory=None,\n",
       "     steps=[('minmaxscaler', MinMaxScaler(copy=True, feature_range=(0, 1))), ('mlpclassifier', MLPClassifier(activation='relu', alpha=0.0001, batch_size='auto', beta_1=0.9,\n",
       "       beta_2=0.999, early_stopping=False, epsilon=1e-08,\n",
       "       hidden_layer_sizes=(100,), learning_rate='constant',\n",
       "       learnin...       solver='adam', tol=0.0001, validation_fraction=0.1, verbose=False,\n",
       "       warm_start=False))]),\n",
       "       fit_params={}, iid=True, n_jobs=1,\n",
       "       param_grid={'mlpclassifier__activation': ['logistic', 'tanh', 'relu'], 'mlpclassifier__solver': ['lbfgs', 'sgd', 'adam'], 'mlpclassifier__alpha': array([1.e-01, 1.e-02, 1.e-03, 1.e-04, 1.e-05, 1.e-06]), 'mlpclassifier__hidden_layer_sizes': array([13, 14, 15, 16, 17, 18, 19, 20])},\n",
       "       pre_dispatch='2*n_jobs', refit=True, scoring=None, verbose=0)"
      ]
     },
     "execution_count": 5,
     "metadata": {},
     "output_type": "execute_result"
    }
   ],
   "source": [
    "from sklearn.preprocessing import MinMaxScaler\n",
    "from sklearn.pipeline import make_pipeline\n",
    "from sklearn.grid_search import GridSearchCV\n",
    "\n",
    "ann_pipeline = make_pipeline(MinMaxScaler(), MLPClassifier(random_state=0, max_iter=10))\n",
    "param_grid = {\n",
    "    \"mlpclassifier__activation\":['logistic', 'tanh', 'relu'],\n",
    "    \"mlpclassifier__solver\":['lbfgs', 'sgd', 'adam'], \n",
    "    \"mlpclassifier__alpha\":10.0 ** -np.arange(1, 7),\n",
    "    \"mlpclassifier__hidden_layer_sizes\":np.arange(13,21),\n",
    "}\n",
    "\n",
    "grid_ann = GridSearchCV(ann_pipeline, param_grid = param_grid, cv = 5)\n",
    "grid_ann.fit(X_train, Y_train)"
   ]
  },
  {
   "cell_type": "code",
   "execution_count": 8,
   "metadata": {
    "scrolled": true
   },
   "outputs": [
    {
     "name": "stdout",
     "output_type": "stream",
     "text": [
      "Best cross-validated accuracy score is 0.9838709677419355\n",
      "mlpclassifier__activation                : logistic\n",
      "mlpclassifier__alpha                     : 0.01\n",
      "mlpclassifier__hidden_layer_sizes        : 20\n",
      "mlpclassifier__solver                    : lbfgs\n"
     ]
    }
   ],
   "source": [
    "print('Best cross-validated accuracy score is {}'.format(grid_ann.best_score_))\n",
    "best = grid_ann.best_params_\n",
    "for k, v in grid_ann.best_params_.items(): \n",
    "    print(\"{:<40} : {}\".format(k, v))"
   ]
  },
  {
   "cell_type": "code",
   "execution_count": 4,
   "metadata": {},
   "outputs": [
    {
     "name": "stdout",
     "output_type": "stream",
     "text": [
      "accuracy = 1.0\n",
      "[[19  0  0]\n",
      " [ 0 22  0]\n",
      " [ 0  0 13]]\n"
     ]
    }
   ],
   "source": [
    "from sklearn.metrics import confusion_matrix\n",
    "Y_pred = grid_ann.predict(X_test)\n",
    "cf_ann = confusion_matrix(Y_test,Y_pred)\n",
    "acc = np.mean(np.array(Y_test) == Y_pred)\n",
    "print('accuracy = {}'.format(acc))\n",
    "print(cf_ann)"
   ]
  }
 ],
 "metadata": {
  "kernelspec": {
   "display_name": "Python 3",
   "language": "python",
   "name": "python3"
  },
  "language_info": {
   "codemirror_mode": {
    "name": "ipython",
    "version": 3
   },
   "file_extension": ".py",
   "mimetype": "text/x-python",
   "name": "python",
   "nbconvert_exporter": "python",
   "pygments_lexer": "ipython3",
   "version": "3.6.5"
  }
 },
 "nbformat": 4,
 "nbformat_minor": 2
}
